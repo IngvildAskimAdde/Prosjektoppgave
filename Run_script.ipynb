{
 "cells": [
  {
   "cell_type": "code",
   "execution_count": 6,
   "metadata": {},
   "outputs": [
    {
     "name": "stdout",
     "output_type": "stream",
     "text": [
      "                Number of images\n",
      "(512, 512, 20)                 4\n",
      "(512, 512, 38)                78\n",
      "(512, 512, 35)                 4\n",
      "(512, 512, 29)                 2\n",
      "(256, 256, 21)                 2\n",
      "(256, 256, 22)                 4\n",
      "(256, 256, 24)                 2\n",
      "(256, 256, 20)                 4\n",
      "(512, 512, 40)                 2\n",
      "(512, 512, 36)                 2\n",
      "(512, 512, 37)                 2\n",
      "(512, 512, 32)                 2\n",
      "(512, 512, 39)                 2\n",
      "(640, 640, 36)                64\n",
      "(384, 384, 36)                 2\n",
      "(640, 640, 16)                 2\n",
      "(512, 512, 18)                 2\n"
     ]
    }
   ],
   "source": [
    "import sys\n",
    "\n",
    "sys.path.append('/Users/ingvild/Documents/Prosjektoppgave/GitHub_project')\n",
    "from Prosjektoppgave import nifty_dim"
   ]
  },
  {
   "cell_type": "code",
   "execution_count": null,
   "metadata": {},
   "outputs": [],
   "source": []
  }
 ],
 "metadata": {
  "kernelspec": {
   "display_name": "Python 3",
   "language": "python",
   "name": "python3"
  },
  "language_info": {
   "codemirror_mode": {
    "name": "ipython",
    "version": 3
   },
   "file_extension": ".py",
   "mimetype": "text/x-python",
   "name": "python",
   "nbconvert_exporter": "python",
   "pygments_lexer": "ipython3",
   "version": "3.8.5"
  }
 },
 "nbformat": 4,
 "nbformat_minor": 4
}
