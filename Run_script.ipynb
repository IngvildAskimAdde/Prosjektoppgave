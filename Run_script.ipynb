{
 "cells": [
  {
   "cell_type": "code",
   "execution_count": 6,
   "metadata": {},
   "outputs": [
    {
     "name": "stdout",
     "output_type": "stream",
     "text": [
      "                Number of images\n",
      "(512, 512, 20)                 4\n",
      "(512, 512, 38)                78\n",
      "(512, 512, 35)                 4\n",
      "(512, 512, 29)                 2\n",
      "(256, 256, 21)                 2\n",
      "(256, 256, 22)                 4\n",
      "(256, 256, 24)                 2\n",
      "(256, 256, 20)                 4\n",
      "(512, 512, 40)                 2\n",
      "(512, 512, 36)                 2\n",
      "(512, 512, 37)                 2\n",
      "(512, 512, 32)                 2\n",
      "(512, 512, 39)                 2\n",
      "(640, 640, 36)                64\n",
      "(384, 384, 36)                 2\n",
      "(640, 640, 16)                 2\n",
      "(512, 512, 18)                 2\n"
     ]
    }
   ],
   "source": [
    "import sys\n",
    "\n",
    "sys.path.append('/Users/ingvild/Documents/Prosjektoppgave/GitHub_project')\n",
    "from Prosjektoppgave import nifty_dim"
   ]
  },
  {
   "cell_type": "code",
   "execution_count": 32,
   "metadata": {},
   "outputs": [],
   "source": [
    "\n",
    "\"\"\"\n",
    "Functions to analyse results\n",
    "Note:\n",
    "when you load a mask.nii file (both ground truth and predicted mask)\n",
    "use\n",
    "sitk.ReadImage(path_to_file)>0\n",
    "in order to get a binary image!\n",
    "\"\"\"\n",
    "import os\n",
    "import numpy as np\n",
    "import SimpleITK as sitk\n",
    "import pandas as pd\n",
    "import get_data as gd\n",
    "import matplotlib.pyplot as plt\n",
    "\n",
    "%matplotlib inline"
   ]
  },
  {
   "cell_type": "code",
   "execution_count": 2,
   "metadata": {},
   "outputs": [],
   "source": [
    "def calculate_dice(mask_a, mask_b):\n",
    "    \"\"\"\n",
    "    Calculate DICE score for two binary masks (=sitk images)\n",
    "    \"\"\"\n",
    "    npa1 = sitk.GetArrayFromImage(mask_a)\n",
    "    npa2 = sitk.GetArrayFromImage(mask_b)\n",
    "\n",
    "    dice = 2*np.count_nonzero(npa1 & npa2) / (np.count_nonzero(npa1) + np.count_nonzero(npa2))\n",
    "    return dice\n",
    "\n",
    "def calculate_msd(mask_a, mask_b):\n",
    "    \"\"\"\n",
    "    Calulate mean average surface distance between mask a and b\n",
    "    \"\"\"\n",
    "    mask_b.CopyInformation(mask_a)\n",
    "    # masks need to occupy exactly the same space and no spacial information is\n",
    "    # saved in the matlab script\n",
    "\n",
    "    contour_list =[sitk.LabelContour(m) for m in [mask_a, mask_b]]\n",
    "\n",
    "    n_voxel = []\n",
    "    mean_val = []\n",
    "\n",
    "    for a, b in [(0,1), (1,0)]:\n",
    "        distance_map = sitk.Abs(sitk.SignedMaurerDistanceMap(contour_list[a],\n",
    "                                                         squaredDistance=False,\n",
    "                                                         useImageSpacing=True))\n",
    "        stat_intensity_filter = sitk.LabelIntensityStatisticsImageFilter()\n",
    "        stat_intensity_filter.Execute(contour_list[b], distance_map)\n",
    "        n_voxel.append(stat_intensity_filter.GetNumberOfPixels(1))\n",
    "        mean_val.append(stat_intensity_filter.GetMean(1))\n",
    "\n",
    "    # combine the two values to get 'symmetric' values\n",
    "    MSD=(n_voxel[0]*mean_val[0]+n_voxel[1]*mean_val[1])/(n_voxel[0]+n_voxel[1])\n",
    "\n",
    "    return MSD\n",
    "\n",
    "def mean_columns(dataframe):\n",
    "    dict = {}\n",
    "    for column in dataframe:\n",
    "        dict[column] = [dataframe[column].mean()]\n",
    "    return dict"
   ]
  },
  {
   "cell_type": "code",
   "execution_count": 3,
   "metadata": {},
   "outputs": [
    {
     "data": {
      "image/png": "[encoded data removed]",
      "text/plain": [
       "<Figure size 432x288 with 1 Axes>"
      ]
     },
     "metadata": {
      "needs_background": "light"
     },
     "output_type": "display_data"
    }
   ],
   "source": [
    "result_folder = '/Volumes/Untitled/Results/'\n",
    "\n",
    "resultPaths = {}\n",
    "\n",
    "\n",
    "for experiment in os.listdir(result_folder):\n",
    "    experimentPath = os.path.join(result_folder, experiment)\n",
    "    if os.path.isdir(experimentPath):\n",
    "        for patient in os.listdir(experimentPath):\n",
    "            patientResultPath = os.path.join(experimentPath, patient)\n",
    "            if experiment in resultPaths:\n",
    "                resultPaths[experiment].append(patientResultPath)\n",
    "            else:\n",
    "                resultPaths[experiment] = [patientResultPath]\n",
    "\n",
    "patientsPaths, patientsNames, patientsPaths_image, patientPaths_groundTruth = gd.get_paths('/Volumes/Untitled/LARC_T2_preprocessed', image_prefix='image', mask_suffix='label.nii')\n",
    "patientPaths_groundTruth.insert(0, patientPaths_groundTruth.pop(len(patientPaths_groundTruth) - 1))\n",
    "\n",
    "dice = {}\n",
    "msd = {}\n",
    "\n",
    "for key in resultPaths:\n",
    "    for i in range(len(patientPaths_groundTruth)):\n",
    "        mask_pred = sitk.ReadImage(resultPaths[key][i]) > 0\n",
    "        mask_truth = sitk.ReadImage(patientPaths_groundTruth[i]) > 0\n",
    "        dice_score = calculate_dice(mask_pred, mask_truth)\n",
    "        msd_score = calculate_msd(mask_pred, mask_truth)\n",
    "        if key in dice:\n",
    "            dice[key].append(dice_score)\n",
    "            msd[key].append(msd_score)\n",
    "        else:\n",
    "            dice[key] = [dice_score]\n",
    "            msd[key] = [msd_score]\n"
   ]
  },
  {
   "cell_type": "code",
   "execution_count": 22,
   "metadata": {},
   "outputs": [],
   "source": [
    "df_dice = pd.DataFrame(dice)\n",
    "df_msd = pd.DataFrame(msd)\n",
    "mean_dice = mean_columns(df_dice)\n",
    "mean_msd = mean_columns(df_msd)\n",
    "\n",
    "df_dice_mean = pd.DataFrame(mean_dice)\n",
    "df_msd_mean = pd.DataFrame(mean_msd)"
   ]
  },
  {
   "cell_type": "code",
   "execution_count": 23,
   "metadata": {},
   "outputs": [
    {
     "name": "stdout",
     "output_type": "stream",
     "text": [
      "       ID_4      ID_5      ID_6      ID_7      ID_8      ID_0      ID_1  \\\n",
      "0  0.319559  0.358313  0.350359  0.390549  0.471907  0.390026  0.413026   \n",
      "1  0.248758  0.284693  0.194038  0.249231  0.308991  0.214102  0.260524   \n",
      "2  0.200916  0.237036  0.273352  0.284753  0.313207  0.318708  0.306084   \n",
      "3  0.334057  0.395977  0.280115  0.355069  0.432374  0.305186  0.364915   \n",
      "4  0.222076  0.232537  0.162463  0.140228  0.151623  0.128193  0.122774   \n",
      "\n",
      "       ID_2      ID_3  \n",
      "0  0.480214  0.369622  \n",
      "1  0.317404  0.193731  \n",
      "2  0.313040  0.313099  \n",
      "3  0.442823  0.290284  \n",
      "4  0.149149  0.199516  \n",
      "        ID_4       ID_5       ID_6       ID_7       ID_8       ID_0  \\\n",
      "0  13.699157  12.854159  13.626543  13.145057  11.706459  12.529648   \n",
      "1  11.990043  12.025323  13.652594  11.697545   9.724169  12.772085   \n",
      "2  13.646368  13.705222  11.938986  13.092841  14.394152  11.066091   \n",
      "3  10.305539   9.112421  14.130362  10.735912   9.598054  12.930275   \n",
      "4  13.204427  12.480972  13.279316  12.536421  11.756450  12.855998   \n",
      "\n",
      "        ID_1       ID_2       ID_3  \n",
      "0  12.623212  11.563876  14.582151  \n",
      "1  11.316548   9.503031  12.877036  \n",
      "2  12.362245  14.235353  13.717723  \n",
      "3  10.335087   9.011011  15.082647  \n",
      "4  12.396687  11.558812  13.757966  \n"
     ]
    }
   ],
   "source": [
    "print(df_dice.head())\n",
    "print(df_msd.head())"
   ]
  },
  {
   "cell_type": "code",
   "execution_count": 24,
   "metadata": {},
   "outputs": [
    {
     "name": "stdout",
     "output_type": "stream",
     "text": [
      "       ID_0      ID_1      ID_2      ID_3      ID_4      ID_5      ID_6  \\\n",
      "0  0.390026  0.413026  0.480214  0.369622  0.319559  0.358313  0.350359   \n",
      "1  0.214102  0.260524  0.317404  0.193731  0.248758  0.284693  0.194038   \n",
      "2  0.318708  0.306084  0.313040  0.313099  0.200916  0.237036  0.273352   \n",
      "3  0.305186  0.364915  0.442823  0.290284  0.334057  0.395977  0.280115   \n",
      "4  0.128193  0.122774  0.149149  0.199516  0.222076  0.232537  0.162463   \n",
      "\n",
      "       ID_7      ID_8  \n",
      "0  0.390549  0.471907  \n",
      "1  0.249231  0.308991  \n",
      "2  0.284753  0.313207  \n",
      "3  0.355069  0.432374  \n",
      "4  0.140228  0.151623  \n",
      "        ID_0       ID_1       ID_2       ID_3       ID_4       ID_5  \\\n",
      "0  12.529648  12.623212  11.563876  14.582151  13.699157  12.854159   \n",
      "1  12.772085  11.316548   9.503031  12.877036  11.990043  12.025323   \n",
      "2  11.066091  12.362245  14.235353  13.717723  13.646368  13.705222   \n",
      "3  12.930275  10.335087   9.011011  15.082647  10.305539   9.112421   \n",
      "4  12.855998  12.396687  11.558812  13.757966  13.204427  12.480972   \n",
      "\n",
      "        ID_6       ID_7       ID_8  \n",
      "0  13.626543  13.145057  11.706459  \n",
      "1  13.652594  11.697545   9.724169  \n",
      "2  11.938986  13.092841  14.394152  \n",
      "3  14.130362  10.735912   9.598054  \n",
      "4  13.279316  12.536421  11.756450  \n"
     ]
    }
   ],
   "source": [
    "cols_dice = list(df_dice.columns.values)\n",
    "cols_msd = list(df_msd.columns.values)\n",
    "\n",
    "cols_dice = cols_dice[5:] + cols_dice[:5]\n",
    "cols_msd = cols_msd[5:] + cols_msd[:5]\n",
    "\n",
    "df_dice = df_dice[cols_dice]\n",
    "df_msd = df_msd[cols_msd]\n",
    "print(df_dice.head())\n",
    "print(df_msd.head())"
   ]
  },
  {
   "cell_type": "code",
   "execution_count": 34,
   "metadata": {},
   "outputs": [
    {
     "data": {
      "text/plain": [
       "Text(0, 0.5, 'DICE')"
      ]
     },
     "execution_count": 34,
     "metadata": {},
     "output_type": "execute_result"
    },
    {
     "data": {
      "image/png": "[encoded data removed]",
      "text/plain": [
       "<Figure size 432x288 with 1 Axes>"
      ]
     },
     "metadata": {
      "needs_background": "light"
     },
     "output_type": "display_data"
    }
   ],
   "source": [
    "plt.figure()\n",
    "boxplot_dicedist = df_dice.boxplot(grid=False)\n",
    "plt.ylabel('DICE')"
   ]
  },
  {
   "cell_type": "code",
   "execution_count": 36,
   "metadata": {},
   "outputs": [
    {
     "data": {
      "text/plain": [
       "Text(0, 0.5, 'MSD')"
      ]
     },
     "execution_count": 36,
     "metadata": {},
     "output_type": "execute_result"
    },
    {
     "data": {
      "image/png": "[encoded data removed]",
      "text/plain": [
       "<Figure size 432x288 with 1 Axes>"
      ]
     },
     "metadata": {
      "needs_background": "light"
     },
     "output_type": "display_data"
    }
   ],
   "source": [
    "plt.figure()\n",
    "boxplot_msddist = df_msd.boxplot(grid=False)\n",
    "plt.ylabel('MSD')"
   ]
  },
  {
   "cell_type": "code",
   "execution_count": null,
   "metadata": {},
   "outputs": [],
   "source": []
  }
 ],
 "metadata": {
  "kernelspec": {
   "display_name": "Python 3",
   "language": "python",
   "name": "python3"
  },
  "language_info": {
   "codemirror_mode": {
    "name": "ipython",
    "version": 3
   },
   "file_extension": ".py",
   "mimetype": "text/x-python",
   "name": "python",
   "nbconvert_exporter": "python",
   "pygments_lexer": "ipython3",
   "version": "3.8.5"
  }
 },
 "nbformat": 4,
 "nbformat_minor": 4
}
